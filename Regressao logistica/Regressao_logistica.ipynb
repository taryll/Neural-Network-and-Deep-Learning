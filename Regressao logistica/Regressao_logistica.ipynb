{
 "cells": [
  {
   "cell_type": "markdown",
   "metadata": {},
   "source": [
    "# Regressão Logística"
   ]
  },
  {
   "cell_type": "markdown",
   "metadata": {},
   "source": [
    "w é o parâmetro, X vem da amostra, b seria o intercepto. Mas poderiamos fazer algo do tipo $w_{0} = b$ com $x_{0} = 1$\n",
    "\n",
    "$z = w^{T}x + b$\n",
    "\n",
    "Sigmoid function\n",
    "\n",
    "$f(z) = \\dfrac{1}{1+e^{-z}}$\n",
    "\n",
    "onde $\\hat{y} = a = sigmoid(z)$\n",
    "\n",
    "Loss function\n",
    "\n",
    "$\\mathcal{L}(\\hat{y}, y) = -ylog(\\hat{y}) + (1-y)log(1-\\hat{y})$\n",
    "\n",
    "Cost function \n",
    "\n",
    "$J = \\dfrac{1}{m} \\sum\\limits_{i=1}^m \\mathcal{L}(\\hat{y},y) $\n",
    "\n",
    "Derivadas\n",
    "\n",
    "Seja $A = sigmoid(w^{T}X + b)$\n",
    "\n",
    "$\\dfrac{\\partial J}{\\partial w} = \\dfrac{1}{m} X(A - Y)$\n",
    "\n",
    "$\\dfrac{\\partial J}{\\partial b} = \\dfrac{1}{m} \\sum_{i=1}^{m} (a^{(i)} - y^{(i)})$\n",
    "\n",
    "Atualização do parâmetro $\\theta$\n",
    "\n",
    "$\\theta := \\theta - \\alpha d\\theta$, onde $\\alpha$ é o learning rate"
   ]
  },
  {
   "cell_type": "markdown",
   "metadata": {},
   "source": [
    "<font color = 'red'>\n",
    "Algoritmo:\n",
    "    \n",
    "- Chute inicial $\\theta$ ou $w$ e $b$. Você irá utilizar a amostra de treino.\n",
    "- Calcule o custo, e tente minimizar utilizando suas derivadas até os parâmetros \"convergirem\".\n",
    "- Teste com sua amostra de teste."
   ]
  },
  {
   "cell_type": "code",
   "execution_count": 2,
   "metadata": {},
   "outputs": [],
   "source": [
    "import numpy as np\n",
    "import pandas as pd\n",
    "import sklearn as sk\n",
    "import random\n",
    "from sklearn.datasets import load_breast_cancer"
   ]
  },
  {
   "cell_type": "code",
   "execution_count": 3,
   "metadata": {},
   "outputs": [],
   "source": [
    "data = load_breast_cancer()\n",
    "X = data.data\n",
    "y = data.target"
   ]
  },
  {
   "cell_type": "code",
   "execution_count": 4,
   "metadata": {},
   "outputs": [],
   "source": [
    "X = (X - X.mean(axis=0))/X.std(axis=0)\n",
    "# X = X / np.linalg.norm(X, axis=0)"
   ]
  },
  {
   "cell_type": "code",
   "execution_count": 5,
   "metadata": {},
   "outputs": [],
   "source": [
    "from sklearn.model_selection import train_test_split\n",
    "X_train, X_test, y_train, y_test = train_test_split(X, y, test_size=0.2, random_state=42)"
   ]
  },
  {
   "cell_type": "code",
   "execution_count": 6,
   "metadata": {},
   "outputs": [],
   "source": [
    "#reshape\n",
    "X_train = X_train.T\n",
    "X_test = X_test.T\n",
    "\n",
    "y_train = y_train.reshape(y_train.shape[0], -1).T\n",
    "y_test = y_test.reshape(y_test.shape[0], -1).T"
   ]
  },
  {
   "cell_type": "code",
   "execution_count": 7,
   "metadata": {},
   "outputs": [],
   "source": [
    "def sigmoid(z):\n",
    "    \n",
    "    f = 1/(1 + np.exp(-z))\n",
    "    \n",
    "    return f"
   ]
  },
  {
   "cell_type": "code",
   "execution_count": 8,
   "metadata": {},
   "outputs": [],
   "source": [
    "def initial(dim):\n",
    "    w = np.zeros(dim).reshape(dim, -1)\n",
    "    b = 0\n",
    "    \n",
    "    return w, b"
   ]
  },
  {
   "cell_type": "code",
   "execution_count": 9,
   "metadata": {},
   "outputs": [],
   "source": [
    "def forward(w, b, X, y):\n",
    "     \n",
    "    m = X.shape[1]\n",
    "    \n",
    "    A = sigmoid(np.dot(w.T, X) + b)\n",
    "    J = -(1/m)*np.sum(y*np.log(A) + (1-y)*np.log(1-A))  \n",
    "#     print(A)\n",
    "    dw = (1/m)*np.dot(X, (A-y).T)\n",
    "    db = (1/m)*np.sum(A-y)\n",
    "    \n",
    "    grads = {\"dw\": dw,\n",
    "             \"db\": db}\n",
    "    \n",
    "    return grads, J"
   ]
  },
  {
   "cell_type": "code",
   "execution_count": 10,
   "metadata": {},
   "outputs": [],
   "source": [
    "def optimize(w, b, X, Y, num_iterations, learning_rate, print_cost = False):\n",
    "    \n",
    "    costs = []\n",
    "    \n",
    "    for i in range(num_iterations):\n",
    "        grads, J = forward(w, b, X, Y)\n",
    "        \n",
    "        dw = grads[\"dw\"]\n",
    "        db = grads[\"db\"]\n",
    "        \n",
    "        w = w - learning_rate*dw\n",
    "        b = b - learning_rate*db\n",
    "        \n",
    "        if i % 100 == 0:\n",
    "            costs.append(J)\n",
    "        \n",
    "        if print_cost and i % 100 == 0:\n",
    "            print (\"Cost after iteration %i: %f\" %(i, J))\n",
    "            \n",
    "    params = {\"w\": w,\n",
    "              \"b\": b}\n",
    "    \n",
    "    grads = {\"dw\": dw,\n",
    "             \"db\": db}\n",
    "    \n",
    "    return params, grads, costs"
   ]
  },
  {
   "cell_type": "code",
   "execution_count": 11,
   "metadata": {},
   "outputs": [],
   "source": [
    "def predict(w, b, X):\n",
    "    \n",
    "    m = X.shape[1]\n",
    "    y_prediction = np.zeros((1,m))\n",
    "    w = w.reshape(X.shape[0], 1)\n",
    "    \n",
    "    A = sigmoid(np.dot(w.T, X) + b)\n",
    "    \n",
    "    y_prediction = (A > 0.5).astype(int)\n",
    "#     assert(Y_prediction.shape == (1, m))\n",
    "    \n",
    "    return y_prediction"
   ]
  },
  {
   "cell_type": "code",
   "execution_count": 12,
   "metadata": {},
   "outputs": [],
   "source": [
    "def model(X_train, Y_train, X_test, Y_test, num_iterations = 2000, learning_rate = 0.5, print_cost = False):\n",
    "    \n",
    "    # initialize parameters with zeros (≈ 1 line of code)\n",
    "    w, b = initial(X_train.shape[0])\n",
    "\n",
    "    # Gradient descent (≈ 1 line of code)\n",
    "    parameters, grads, costs = optimize(w, b, X_train, Y_train, num_iterations, learning_rate, print_cost)\n",
    "    \n",
    "    # Retrieve parameters w and b from dictionary \"parameters\"\n",
    "    w = parameters[\"w\"]\n",
    "    b = parameters[\"b\"]\n",
    "    \n",
    "    # Predict test/train set examples (≈ 2 lines of code)\n",
    "    Y_prediction_test = predict(w, b, X_test)\n",
    "    Y_prediction_train = predict(w, b, X_train)\n",
    "\n",
    "\n",
    "    print(\"train accuracy: {} %\".format(100 - np.mean(np.abs(Y_prediction_train - Y_train)) * 100))\n",
    "    print(\"test accuracy: {} %\".format(100 - np.mean(np.abs(Y_prediction_test - Y_test)) * 100))\n",
    "\n",
    "    \n",
    "    d = {\"costs\": costs,\n",
    "         \"Y_prediction_test\": Y_prediction_test, \n",
    "         \"Y_prediction_train\" : Y_prediction_train, \n",
    "         \"w\" : w, \n",
    "         \"b\" : b,\n",
    "         \"learning_rate\" : learning_rate,\n",
    "         \"num_iterations\": num_iterations}\n",
    "    \n",
    "    return d"
   ]
  },
  {
   "cell_type": "code",
   "execution_count": 13,
   "metadata": {},
   "outputs": [
    {
     "name": "stdout",
     "output_type": "stream",
     "text": [
      "train accuracy: 99.12087912087912 %\n",
      "test accuracy: 98.24561403508773 %\n"
     ]
    }
   ],
   "source": [
    "modelo_logistico = model(X_train, y_train, X_test, y_test, 2000, 0.5, False)"
   ]
  },
  {
   "cell_type": "code",
   "execution_count": 14,
   "metadata": {},
   "outputs": [],
   "source": [
    "#parametros iniciais\n",
    "num_iterations = 2000\n",
    "learning_rate = 0.1\n",
    "\n",
    "# chute inicial\n",
    "w, b = initial(X_train.shape[0])\n",
    "\n",
    "# otimizacao por gradiente\n",
    "parameters, grads, costs = optimize(w, b, X_train, y_train, num_iterations, learning_rate, False)\n",
    "\n",
    "# parametros que foram obtidos pela otimizacao\n",
    "w = parameters[\"w\"]\n",
    "b = parameters[\"b\"]\n",
    "\n",
    "# predicao\n",
    "y_prediction_test = predict(w, b, X_test)\n",
    "y_prediction_train = predict(w, b, X_train)"
   ]
  },
  {
   "cell_type": "code",
   "execution_count": 15,
   "metadata": {},
   "outputs": [],
   "source": [
    "# utilizando metricas do sklearn, precisamos redimensionar as matrizes\n",
    "y_train_true = y_train.reshape(y_train.shape[1])\n",
    "y_test_true = y_test.reshape(y_test.shape[1])\n",
    "\n",
    "y_train_pred = y_prediction_train.reshape(y_prediction_train.shape[1])\n",
    "y_test_pred = y_prediction_test.reshape(y_prediction_test.shape[1])"
   ]
  },
  {
   "cell_type": "code",
   "execution_count": 17,
   "metadata": {},
   "outputs": [
    {
     "name": "stdout",
     "output_type": "stream",
     "text": [
      "0.9868131868131869\n",
      "0.9912280701754386\n"
     ]
    }
   ],
   "source": [
    "from sklearn.metrics import accuracy_score\n",
    "\n",
    "print(accuracy_score(y_train_true, y_train_pred))\n",
    "print(accuracy_score(y_test_true, y_test_pred))"
   ]
  },
  {
   "cell_type": "code",
   "execution_count": 18,
   "metadata": {},
   "outputs": [
    {
     "name": "stdout",
     "output_type": "stream",
     "text": [
      "0.993006993006993\n",
      "1.0\n"
     ]
    }
   ],
   "source": [
    "from sklearn.metrics import recall_score\n",
    "\n",
    "print(recall_score(y_train_true, y_train_pred))\n",
    "print(recall_score(y_test_true, y_test_pred))"
   ]
  }
 ],
 "metadata": {
  "kernelspec": {
   "display_name": "Python 3",
   "language": "python",
   "name": "python3"
  },
  "language_info": {
   "codemirror_mode": {
    "name": "ipython",
    "version": 3
   },
   "file_extension": ".py",
   "mimetype": "text/x-python",
   "name": "python",
   "nbconvert_exporter": "python",
   "pygments_lexer": "ipython3",
   "version": "3.6.9"
  }
 },
 "nbformat": 4,
 "nbformat_minor": 2
}
