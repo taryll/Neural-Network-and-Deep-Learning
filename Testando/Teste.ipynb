{
 "cells": [
  {
   "cell_type": "markdown",
   "metadata": {},
   "source": [
    "# Regressão Logística"
   ]
  },
  {
   "cell_type": "markdown",
   "metadata": {},
   "source": [
    "w é o parâmetro, X vem da amostra, b seria o intercepto. Mas poderiamos fazer algo do tipo $w_{0} = b$ com $x_{0} = 1$\n",
    "\n",
    "$z = w^{T}x + b$\n",
    "\n",
    "Sigmoid function\n",
    "\n",
    "$f(z) = \\dfrac{1}{1+e^{-z}}$\n",
    "\n",
    "onde $\\hat{y} = a = sigmoid(z)$\n",
    "\n",
    "Loss function\n",
    "\n",
    "$\\mathcal{L}(\\hat{y}, y) = -ylog(\\hat{y}) + (1-y)log(1-\\hat{y})$\n",
    "\n",
    "Cost function \n",
    "\n",
    "$J = \\dfrac{1}{m} \\sum\\limits_{i=1}^m \\mathcal{L}(\\hat{y},y) $\n",
    "\n",
    "Derivadas\n",
    "\n",
    "Seja $A = sigmoid(w^{T}X + b)$\n",
    "\n",
    "$\\dfrac{\\partial J}{\\partial w} = \\dfrac{1}{m} X(A - Y)$\n",
    "\n",
    "$\\dfrac{\\partial J}{\\partial b} = \\dfrac{1}{m} \\sum_{i=1}^{m} (a^{(i)} - y^{(i)})$\n",
    "\n",
    "Atualização do parâmetro $\\theta$\n",
    "\n",
    "$\\theta := \\theta - \\alpha d\\theta$, onde $\\alpha$ é o learning rate"
   ]
  },
  {
   "cell_type": "markdown",
   "metadata": {},
   "source": [
    "<font color = 'red'>\n",
    "Algoritmo:\n",
    "    \n",
    "- Chute inicial $\\theta$ ou $w$ e $b$. Você irá utilizar a amostra de treino.\n",
    "- Calcule o custo, e tente minimizar utilizando suas derivadas até os parâmetros \"convergirem\".\n",
    "- Teste com sua amostra de teste."
   ]
  },
  {
   "cell_type": "code",
   "execution_count": 17,
   "metadata": {},
   "outputs": [],
   "source": [
    "import numpy as np\n",
    "import pandas as pd\n",
    "import sklearn as sk\n",
    "from sklearn.datasets import load_iris"
   ]
  },
  {
   "cell_type": "code",
   "execution_count": 21,
   "metadata": {},
   "outputs": [],
   "source": [
    "data = load_iris()"
   ]
  },
  {
   "cell_type": "code",
   "execution_count": 26,
   "metadata": {},
   "outputs": [
    {
     "data": {
      "text/plain": [
       "['sepal length (cm)',\n",
       " 'sepal width (cm)',\n",
       " 'petal length (cm)',\n",
       " 'petal width (cm)']"
      ]
     },
     "execution_count": 26,
     "metadata": {},
     "output_type": "execute_result"
    }
   ],
   "source": [
    "data.feature_names"
   ]
  }
 ],
 "metadata": {
  "kernelspec": {
   "display_name": "Python 3",
   "language": "python",
   "name": "python3"
  },
  "language_info": {
   "codemirror_mode": {
    "name": "ipython",
    "version": 3
   },
   "file_extension": ".py",
   "mimetype": "text/x-python",
   "name": "python",
   "nbconvert_exporter": "python",
   "pygments_lexer": "ipython3",
   "version": "3.6.9"
  }
 },
 "nbformat": 4,
 "nbformat_minor": 2
}
